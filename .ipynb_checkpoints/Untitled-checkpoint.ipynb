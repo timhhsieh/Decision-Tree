{
 "cells": [
  {
   "cell_type": "code",
   "execution_count": 3,
   "id": "ed5abb6b",
   "metadata": {},
   "outputs": [
    {
     "name": "stdout",
     "output_type": "stream",
     "text": [
      "['Young', 'Myope', 'No', 'Reduced', 'No']\n",
      "['Presbyopic', 'Myope', 'No', 'Normal', 'No']\n",
      "['Prepresbyopic', 'Myope', 'No', 'Reduced', 'No']\n",
      "['Prepresbyopic', 'Myope', 'No', 'Normal', 'Yes']\n",
      "['Presbyopic', 'Myope', 'Yes', 'Normal', 'Yes']\n",
      "['Young', 'Myope', 'Yes', 'Normal', 'Yes']\n",
      "['Young', 'Hypermetrope', 'No', 'Reduced', 'No']\n",
      "['Prepresbyopic', 'Myope', 'Yes', 'Reduced', 'No']\n",
      "['Presbyopic', 'Hypermetrope', 'No', 'Reduced', 'No']\n",
      "['Young', 'Myope', 'Yes', 'Reduced', 'Yes']\n"
     ]
    },
    {
     "ename": "TypeError",
     "evalue": "plot_tree() got an unexpected keyword argument 'Recommended'",
     "output_type": "error",
     "traceback": [
      "\u001b[1;31m---------------------------------------------------------------------------\u001b[0m",
      "\u001b[1;31mTypeError\u001b[0m                                 Traceback (most recent call last)",
      "Cell \u001b[1;32mIn[3], line 54\u001b[0m\n\u001b[0;32m     51\u001b[0m clf \u001b[38;5;241m=\u001b[39m clf\u001b[38;5;241m.\u001b[39mfit(X, Y)\n\u001b[0;32m     53\u001b[0m \u001b[38;5;66;03m# plotting the decision tree\u001b[39;00m\n\u001b[1;32m---> 54\u001b[0m \u001b[43mtree\u001b[49m\u001b[38;5;241;43m.\u001b[39;49m\u001b[43mplot_tree\u001b[49m\u001b[43m(\u001b[49m\u001b[43mclf\u001b[49m\u001b[43m,\u001b[49m\u001b[43m \u001b[49m\u001b[43mfeature_names\u001b[49m\u001b[38;5;241;43m=\u001b[39;49m\u001b[43m[\u001b[49m\u001b[38;5;124;43m'\u001b[39;49m\u001b[38;5;124;43mAge\u001b[39;49m\u001b[38;5;124;43m'\u001b[39;49m\u001b[43m,\u001b[49m\u001b[43m \u001b[49m\u001b[38;5;124;43m'\u001b[39;49m\u001b[38;5;124;43mSpectacle\u001b[39;49m\u001b[38;5;124;43m'\u001b[39;49m\u001b[43m,\u001b[49m\u001b[43m \u001b[49m\u001b[38;5;124;43m'\u001b[39;49m\u001b[38;5;124;43mAstigmatism\u001b[39;49m\u001b[38;5;124;43m'\u001b[39;49m\u001b[43m,\u001b[49m\u001b[43m \u001b[49m\u001b[38;5;124;43m'\u001b[39;49m\u001b[38;5;124;43mTear\u001b[39;49m\u001b[38;5;124;43m'\u001b[39;49m\u001b[43m]\u001b[49m\u001b[43m,\u001b[49m\u001b[43m \u001b[49m\u001b[43mRecommended\u001b[49m\u001b[38;5;241;43m=\u001b[39;49m\u001b[43m[\u001b[49m\u001b[38;5;124;43m'\u001b[39;49m\u001b[38;5;124;43mNo\u001b[39;49m\u001b[38;5;124;43m'\u001b[39;49m\u001b[43m,\u001b[49m\u001b[43m \u001b[49m\u001b[38;5;124;43m'\u001b[39;49m\u001b[38;5;124;43mYes\u001b[39;49m\u001b[38;5;124;43m'\u001b[39;49m\u001b[43m]\u001b[49m\u001b[43m,\u001b[49m\u001b[43m \u001b[49m\u001b[43mfilled\u001b[49m\u001b[38;5;241;43m=\u001b[39;49m\u001b[38;5;28;43;01mTrue\u001b[39;49;00m\u001b[43m,\u001b[49m\u001b[43m \u001b[49m\u001b[43mrounded\u001b[49m\u001b[38;5;241;43m=\u001b[39;49m\u001b[38;5;28;43;01mTrue\u001b[39;49;00m\u001b[43m)\u001b[49m\n\u001b[0;32m     55\u001b[0m plt\u001b[38;5;241m.\u001b[39mshow()\n",
      "\u001b[1;31mTypeError\u001b[0m: plot_tree() got an unexpected keyword argument 'Recommended'"
     ]
    }
   ],
   "source": [
    "#-------------------------------------------------------------------------\n",
    "# AUTHOR: Tim Hsieh\n",
    "# FILENAME: decision_tree.py\n",
    "# SPECIFICATION: description of the program\n",
    "# FOR: CS 4210- Assignment #1\n",
    "# TIME SPENT: how long it took you to complete the assignment\n",
    "#-----------------------------------------------------------*/\n",
    "\n",
    "#IMPORTANT NOTE: DO NOT USE ANY ADVANCED PYTHON LIBRARY TO COMPLETE THIS CODE SUCH AS numpy OR pandas. You have to work here only with standard\n",
    "# dictionaries, lists, and arrays\n",
    "\n",
    "#importing some Python libraries\n",
    "from sklearn import tree\n",
    "import matplotlib.pyplot as plt\n",
    "import csv\n",
    "db = []\n",
    "X = []\n",
    "Y = []\n",
    "\n",
    "# Create mappings for categorical values to numerical values\n",
    "age_mapping = {'Young': 1, 'Prepresbyopic': 2, 'Presbyopic': 3}\n",
    "spectacle_mapping = {'Myope': 1, 'Hypermetrope': 2}\n",
    "astigmatism_mapping = {'No': 1, 'Yes': 2}\n",
    "tear_mapping = {'Reduced': 1, 'Normal': 2}\n",
    "recommended_mapping = {'No': 1, 'Yes': 2}\n",
    "\n",
    "# reading the data in a csv file\n",
    "with open('contact_lens.csv', 'r') as csvfile:\n",
    "    reader = csv.reader(csvfile)\n",
    "    for i, row in enumerate(reader):\n",
    "        if i > 0: # skipping the header\n",
    "            db.append(row)\n",
    "            print(row)\n",
    "\n",
    "# transform the original categorical training features into numbers and add to the 4D array X\n",
    "for row in db:\n",
    "    x_row = [\n",
    "        age_mapping[row[0]],\n",
    "        spectacle_mapping[row[1]],\n",
    "        astigmatism_mapping[row[2]],\n",
    "        tear_mapping[row[3]]\n",
    "    ]\n",
    "    X.append(x_row)\n",
    "\n",
    "# transform the original categorical training classes into numbers and add to the vector Y\n",
    "for row in db:\n",
    "    Y.append(recommended_mapping[row[4]])\n",
    "\n",
    "# fitting the decision tree to the data\n",
    "clf = tree.DecisionTreeClassifier(criterion='entropy')\n",
    "clf = clf.fit(X, Y)\n",
    "\n",
    "# plotting the decision tree\n",
    "tree.plot_tree(clf, feature_names=['Age', 'Spectacle', 'Astigmatism', 'Tear'], class_names=['No', 'Yes'], filled=True, rounded=True)\n",
    "plt.show()\n"
   ]
  },
  {
   "cell_type": "code",
   "execution_count": null,
   "id": "4a12ce11",
   "metadata": {},
   "outputs": [],
   "source": []
  }
 ],
 "metadata": {
  "kernelspec": {
   "display_name": "Python 3 (ipykernel)",
   "language": "python",
   "name": "python3"
  },
  "language_info": {
   "codemirror_mode": {
    "name": "ipython",
    "version": 3
   },
   "file_extension": ".py",
   "mimetype": "text/x-python",
   "name": "python",
   "nbconvert_exporter": "python",
   "pygments_lexer": "ipython3",
   "version": "3.10.9"
  }
 },
 "nbformat": 4,
 "nbformat_minor": 5
}
